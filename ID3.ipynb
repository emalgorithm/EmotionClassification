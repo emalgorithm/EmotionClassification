{
 "cells": [
  {
   "cell_type": "code",
   "execution_count": 1,
   "metadata": {
    "collapsed": true
   },
   "outputs": [],
   "source": [
    "from scipy.io import loadmat\n",
    "from collections import Counter\n",
    "from random import randint\n",
    "import numpy as np"
   ]
  },
  {
   "cell_type": "markdown",
   "metadata": {},
   "source": [
    "$N = $ number of observations\n",
    "\n",
    "$C = $ set of classes\n",
    "\n",
    "`X_clean`, `X_noisy` $ \\in \\{0, 1\\}^{(N \\times 45)}$\n",
    "\n",
    "`Y_clean`, `Y_noisy` $ \\in C^{(N \\times 0)}$"
   ]
  },
  {
   "cell_type": "code",
   "execution_count": 3,
   "metadata": {
    "collapsed": true
   },
   "outputs": [],
   "source": [
    "clean_data = loadmat('Data/cleandata_students.mat')\n",
    "noisy_data = loadmat('Data/noisydata_students.mat')\n",
    "\n",
    "X_clean = clean_data['x']\n",
    "X_noisy = noisy_data['x']\n",
    "\n",
    "attributes = [i for i in range(len(X_clean[0]) - 1)]\n",
    "\n",
    "y_clean = [y[0] for y in clean_data['y']]\n",
    "y_noisy = [y[0] for y in noisy_data['y']]"
   ]
  },
  {
   "cell_type": "code",
   "execution_count": 4,
   "metadata": {
    "collapsed": true
   },
   "outputs": [],
   "source": [
    "def unique_attr_vals(X):\n",
    "    X = np.array(X)\n",
    "    X = X.reshape(X.shape[1], X.shape[0])\n",
    "    return [list(set(list(attr_vec))) for attr_vec in list(X)]\n",
    "\n",
    "def format_train_targets(y, target_class):\n",
    "    return [1 if c == target_class else 0 for c in y]\n",
    "\n",
    "class Node:\n",
    "    def __init__(self, op, value=None):\n",
    "        self.op = op\n",
    "        self.value = value\n",
    "        self.kids = [None, None]\n",
    "            \n",
    "    def add_child(self, value, node):\n",
    "        self.kids[value] = node"
   ]
  },
  {
   "cell_type": "code",
   "execution_count": 5,
   "metadata": {
    "collapsed": true
   },
   "outputs": [],
   "source": [
    "def majoirty_value(y):\n",
    "    return Counter(y).most_common(1)[0][0]\n",
    "\n",
    "def filter_examples(X, y, attribute, value):\n",
    "    X_new = []\n",
    "    y_new = []\n",
    "    \n",
    "    for (index, x) in enumerate(X):\n",
    "        if (x[attribute] == value):\n",
    "            X_new.append(x)\n",
    "            y_new.append(y[index])\n",
    "            \n",
    "    return (X_new, y_new)"
   ]
  },
  {
   "cell_type": "code",
   "execution_count": 6,
   "metadata": {
    "collapsed": true
   },
   "outputs": [],
   "source": [
    "def choose_best_attribute(X, attributes, y):\n",
    "    return attributes[randint(0, len(attributes) - 1)]\n",
    "\n",
    "# attributes = list of indexes of attributes \\in [0, 44]\n",
    "def build_decision_tree(X, attributes, y, attr_vals):\n",
    "    unique_y = set(y)\n",
    "    \n",
    "    if len(unique_y) == 1:\n",
    "        return Node(-1, unique_y.pop())\n",
    "    elif len(attributes) == 0:\n",
    "        return Node(-1, majoirty_value(y))\n",
    "    \n",
    "    best_attr = choose_best_attribute(X, attributes, y)\n",
    "\n",
    "    node = Node(best_attr)\n",
    "    \n",
    "    for val in attr_vals[best_attr]:\n",
    "        (X_v, y_v) = filter_examples(X, y, best_attr, val)\n",
    "        \n",
    "        if len(X_v) == 0:\n",
    "            node.add_child(val, Node(-1, majoirty_value(y)))\n",
    "        else:\n",
    "            new_attr = [a for a in attributes if a != best_attr]\n",
    "            child_node = build_decision_tree(X_v, new_attr, y_v, attr_vals)\n",
    "            node.add_child(val, child_node)\n",
    "    \n",
    "    return node\n",
    "\n",
    "def predict(tree, x):\n",
    "    if tree == None:\n",
    "        print(\"bug\")\n",
    "        return 0\n",
    "    \n",
    "    if tree.op == -1:\n",
    "        return tree.value\n",
    "    \n",
    "    return predict(tree.kids[x[tree.op]], x)"
   ]
  },
  {
   "cell_type": "code",
   "execution_count": 7,
   "metadata": {},
   "outputs": [
    {
     "name": "stdout",
     "output_type": "stream",
     "text": [
      "79.52%\n"
     ]
    }
   ],
   "source": [
    "import numpy as np\n",
    "from sklearn.model_selection import train_test_split\n",
    "\n",
    "attr_vals = unique_attr_vals(X_clean)\n",
    "\n",
    "y = format_train_targets(y_clean, 2)\n",
    "\n",
    "X_train, X_test, y_train, y_test = train_test_split(X_clean, y, test_size=0.33, random_state=42)\n",
    "\n",
    "tree = build_decision_tree(X_train, attributes, y_train, attr_vals)\n",
    "\n",
    "def test(X_test, actual_y, tree):\n",
    "    predicted = [predict(tree, x) for x in X_test]\n",
    "    \n",
    "    correct = 0\n",
    "    \n",
    "    for i in range(len(actual_y)):\n",
    "        if actual_y[i] == predicted[i]:\n",
    "            correct += 1\n",
    "    \n",
    "    return \"{}%\".format(round(correct/len(actual_y), 4) * 100)\n",
    "\n",
    "print(test(X_test, y_test, tree))"
   ]
  }
 ],
 "metadata": {
  "kernelspec": {
   "display_name": "Python 3",
   "language": "python",
   "name": "python3"
  },
  "language_info": {
   "codemirror_mode": {
    "name": "ipython",
    "version": 3
   },
   "file_extension": ".py",
   "mimetype": "text/x-python",
   "name": "python",
   "nbconvert_exporter": "python",
   "pygments_lexer": "ipython3",
   "version": "3.6.1"
  }
 },
 "nbformat": 4,
 "nbformat_minor": 2
}
